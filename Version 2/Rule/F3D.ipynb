{
 "cells": [
  {
   "cell_type": "code",
   "execution_count": 1,
   "metadata": {},
   "outputs": [
    {
     "name": "stdout",
     "output_type": "stream",
     "text": [
      "Data location is /home/mer49/Workspace2/PPC_data/\n",
      "Numpy configured\n",
      "Matplotlib configured\n"
     ]
    }
   ],
   "source": [
    "%load_ext autoreload\n",
    "%autoreload 2\n",
    "%matplotlib inline\n",
    "\n",
    "# Add local scripts to path\n",
    "import os,sys\n",
    "sys.path.insert(0,os.path.abspath(\"./\"))\n",
    "import neurotools\n",
    "\n",
    "# Set up cache\n",
    "from neurotools.jobs.initialize_system_cache import initialize_caches,cache_test\n",
    "PYCACHEDIR = os.path.abspath('./')\n",
    "CACHENAME  = 'PPC_cache'\n",
    "from neurotools.tools import ensure_dir\n",
    "ensure_dir(PYCACHEDIR+os.sep+CACHENAME)\n",
    "initialize_caches(\n",
    "    level1  = PYCACHEDIR,\n",
    "    force   = False,\n",
    "    verbose = False,\n",
    "    CACHE_IDENTIFIER = CACHENAME)\n",
    "\n",
    "# Import libraries\n",
    "from neurotools.nlab import *\n",
    "import ppc_data_loader\n",
    "\n",
    "# Set this to the location of the PPC data on your machine\n",
    "ppc_data_loader.path = '/home/mer49/Dropbox (Cambridge University)/Datasets/PPC_data/'\n",
    "from ppc_data_loader   import *\n",
    "from ppc_trial         import *\n",
    "\n",
    "# Numpy configuration\n",
    "from scipy.stats import norm\n",
    "np.seterr(all='ignore')\n",
    "np.set_printoptions(precision=3)\n",
    "import warnings\n",
    "warnings.filterwarnings(\"ignore\",\"scipy\")\n",
    "print('Numpy configured')\n",
    "\n",
    "# Matplotlib configuration\n",
    "import matplotlib as mpl\n",
    "mpl.rcParams['figure.dpi'] = 120\n",
    "TEXTWIDTH = 5.62708\n",
    "matplotlib.rcParams['figure.figsize'] = (TEXTWIDTH, TEXTWIDTH/sqrt(2))\n",
    "import warnings\n",
    "from matplotlib import MatplotlibDeprecationWarning\n",
    "warnings.filterwarnings(\"ignore\",category=MatplotlibDeprecationWarning)\n",
    "SMALL_SIZE = 7\n",
    "MEDIUM_SIZE = 8\n",
    "BIGGER_SIZE = 9\n",
    "matplotlib.rc('font' , size   =SMALL_SIZE ) # controls default text sizes\n",
    "matplotlib.rc('axes' , titlesize=MEDIUM_SIZE) # fontsize of the axes title\n",
    "matplotlib.rc('axes' , labelsize=MEDIUM_SIZE) # fontsize of the x and y labels\n",
    "matplotlib.rc('xtick' , labelsize=SMALL_SIZE ) # fontsize of the tick labels\n",
    "matplotlib.rc('ytick' , labelsize=SMALL_SIZE ) # fontsize of the tick labels\n",
    "matplotlib.rc('legend', fontsize =SMALL_SIZE ) # legend fontsize\n",
    "matplotlib.rc('figure', titlesize=BIGGER_SIZE) # fontsize of the figure title\n",
    "matplotlib.rc('lines' , solid_capstyle='round')\n",
    "plt.rcParams['image.cmap'] = 'parula'\n",
    "from cycler import cycler\n",
    "mpl.rcParams['axes.prop_cycle'] = cycler(color=[BLACK,RUST,TURQUOISE,OCHRE,AZURE,MAUVE,MOSS,INDEGO,VIOLET,VERIDIAN,CRIMSON])\n",
    "matplotlib.rc('savefig',dpi=240)\n",
    "print('Matplotlib configured')"
   ]
  },
  {
   "cell_type": "markdown",
   "metadata": {},
   "source": [
    "## Generate plot 3D"
   ]
  },
  {
   "cell_type": "markdown",
   "metadata": {},
   "source": [
    "## Load prepared data"
   ]
  },
  {
   "cell_type": "code",
   "execution_count": 2,
   "metadata": {},
   "outputs": [
    {
     "name": "stdout",
     "output_type": "stream",
     "text": [
      "[1, 2, 3, 4, 5, 6, 7, 8, 9, 10, 11, 12, 13, 14, 15, 16, 17, 18, 19, 20, 21, 25]\n"
     ]
    }
   ],
   "source": [
    "from itertools import product\n",
    "from collections import defaultdict\n",
    "\n",
    "animals  = get_subject_ids()\n",
    "animal   = choice(animals)\n",
    "sessions = get_session_ids(animal)\n",
    "print(sessions)\n",
    "si1      = choice(range(len(sessions)-1))\n",
    "s1,s2    = sessions[si1:si1+2]\n",
    "\n",
    "use = [(1,[1, 4, 5, 6, 7, 10, 14]),\n",
    "    (3,[ 1,  2,  4,  6,  7,  8,  9, 10, 11, 12]),\n",
    "    (4,[1, 2, 3, 4, 5, 6, 7, 8, 9, 10]),\n",
    "    (5,[6, 7, 8, 9, 10, 11, 12])]\n",
    "\n",
    "NXVAL = 10\n",
    "\n",
    "# Load e.g. data\n",
    "\n",
    "sdr = './datafiles/concatenated_analyses_processed_extracted_features/'\n",
    "vnm = 'Y_position'\n",
    "pfx = 'concatenated_analyses_data_'\n",
    "fnt = sdr+pfx+'M%d_sessions_%s_days_%s_variable_%s'\n",
    "\n",
    "animal,sessions = use[2]\n",
    "ss = '_'.join(map(str,sessions))\n",
    "dm = dict(zip(get_session_ids(animal),get_days(animal)))\n",
    "dy = array([dm[s] for s in sessions])\n",
    "dd = '_'.join(map(str,dy))\n",
    "fn = fnt%(animal,ss,dd,vnm)\n",
    "data = loadmat(fn)\n",
    "x = amap(squeeze,data['X'].squeeze())\n",
    "y = amap(squeeze,data['Y'].squeeze())"
   ]
  },
  {
   "cell_type": "markdown",
   "metadata": {},
   "source": [
    "## Approach\n",
    "\n",
    "The previous approach simply concatenated, then trained. It used 1/D of the average amount of data per day, where D is the total number of days, to build the dataset used for training and testing. It trained using the `reglstsq` with default regularization strength. It manually calculated the testing error as mean-absolute error after the fact."
   ]
  },
  {
   "cell_type": "code",
   "execution_count": 3,
   "metadata": {},
   "outputs": [
    {
     "data": {
      "image/png": "[encoded data removed]",
      "text/plain": [
       "<Figure size 675.25x477.474 with 1 Axes>"
      ]
     },
     "metadata": {
      "needs_background": "light"
     },
     "output_type": "display_data"
    }
   ],
   "source": [
    "def get_concatenated_R2(x,y,M):\n",
    "    # Thin the data to M trials in total\n",
    "    x,y   = cat(x),cat(y)\n",
    "    ntr   = len(y)\n",
    "    usetr = choice(arange(ntr),M,replace=False)\n",
    "    x     = x[usetr]\n",
    "    y     = y[usetr]\n",
    "    block = partition_trials_for_crossvalidation(y,NXVAL,shuffle=True)\n",
    "    r2    = []\n",
    "    for i in range(NXVAL):\n",
    "        # Train\n",
    "        itr = cat(block[:i]+block[i+1:])\n",
    "        wc  = reglstsq(cat(x[itr]),cat(y[itr]))\n",
    "        # Test\n",
    "        its = block[i]\n",
    "        xts = cat(x[its])\n",
    "        yts = cat(y[its])\n",
    "        r2 += [1-mean(abs(yts-xts@wc)**2)/var(yts)]\n",
    "    return r2\n",
    "\n",
    "from collections import defaultdict\n",
    "res   = defaultdict(list)\n",
    "M     = min(map(len,x))\n",
    "nsess = len(sessions)\n",
    "for s1 in range(nsess):\n",
    "    for s2 in range(s1+1,nsess):\n",
    "        res[dy[s2-1]-dy[s1]] += get_concatenated_R2(x[s1:s2],y[s1:s2],M)\n",
    "\n",
    "normto = median(res[0])\n",
    "maxdd = max(res.keys())\n",
    "for dd in range(0,maxdd+1):\n",
    "    r2 = res[dd]/normto*100\n",
    "    colored_boxplot(r2,[dd],AZURE)\n",
    "xlabel('Δ days')\n",
    "ylabel('Normalized R²')\n",
    "simpleaxis()"
   ]
  },
  {
   "cell_type": "markdown",
   "metadata": {},
   "source": [
    "## Now plot\n"
   ]
  },
  {
   "cell_type": "code",
   "execution_count": 4,
   "metadata": {},
   "outputs": [],
   "source": [
    "@memoize\n",
    "def get_concat_normalized_r2(animal,sessions,NXVAL=10,nsamples=50):\n",
    "    # Get data\n",
    "    ss = '_'.join(map(str,sessions))\n",
    "    dm = dict(zip(get_session_ids(animal),get_days(animal)))\n",
    "    dy = array([dm[s] for s in sessions])\n",
    "    dd = '_'.join(map(str,dy))\n",
    "    fn = fnt%(animal,ss,dd,vnm)\n",
    "    data = loadmat(fn)\n",
    "    x = amap(squeeze,data['X'].squeeze())\n",
    "    y = amap(squeeze,data['Y'].squeeze())\n",
    "    \n",
    "    # Evaluate concatenated on a range of days\n",
    "    res   = defaultdict(list)\n",
    "    M     = min(map(len,x))\n",
    "    nsess = len(sessions)\n",
    "    for isample in range(nsamples):\n",
    "        for s1 in range(nsess):\n",
    "            for s2 in range(s1+1,nsess):\n",
    "                res[dy[s2-1]-dy[s1]] += [mean(get_concatenated_R2(x[s1:s2],y[s1:s2],M))]\n",
    "            \n",
    "    # Normalize\n",
    "    normto = median(res[0])\n",
    "    for k in res.keys():\n",
    "        res[k] = res[k]/normto*100\n",
    "    return res"
   ]
  },
  {
   "cell_type": "code",
   "execution_count": 5,
   "metadata": {},
   "outputs": [],
   "source": [
    "# cache data-based results\n",
    "[get_concat_normalized_r2(*u,nsamples=20) for u in use];"
   ]
  },
  {
   "cell_type": "code",
   "execution_count": 6,
   "metadata": {},
   "outputs": [
    {
     "name": "stdout",
     "output_type": "stream",
     "text": [
      "Contains:\n",
      "  | R2_95pc_Conf | 4       | object | 'numpy.ndarray | \n",
      "  | R2_stds      | 4       | object | 'numpy.ndarray | \n",
      "  | R2_vecs      | 4       | object | 'numpy.ndarray | \n",
      "  | readme       | 184 x 1 | uint16 | 'numpy.ndarray | \n"
     ]
    }
   ],
   "source": [
    "# Load DVR's results\n",
    "fn = './datafiles/DVRF3D-1/forward_position.mat'\n",
    "import h5py\n",
    "f = h5py.File(fn,'r')\n",
    "print('Contains:')\n",
    "from neurotools.hdfmat import *\n",
    "printmatHDF5(f)\n",
    "ss = getHDF(f,'R2_stds')\n",
    "mu = getHDF(f,'R2_vecs')"
   ]
  },
  {
   "cell_type": "code",
   "execution_count": 7,
   "metadata": {},
   "outputs": [
    {
     "data": {
      "image/png": "[encoded data removed]",
      "text/plain": [
       "<Figure size 840x180 with 5 Axes>"
      ]
     },
     "metadata": {
      "needs_background": "light"
     },
     "output_type": "display_data"
    }
   ],
   "source": [
    "TEXTWIDTH = 7\n",
    "figure(figsize=(TEXTWIDTH,1.5))\n",
    "\n",
    "save_for_later = {}\n",
    "\n",
    "for i,(animal, sessions) in enumerate(use):\n",
    "    subplot(1,4,i+1)\n",
    "    res = get_concat_normalized_r2(animal, sessions)\n",
    "    dd  = sorted(list(res.keys()))\n",
    "    r2  = [res[d] for d in dd]\n",
    "    md  = amap(median,r2)\n",
    "    \n",
    "    sns = '_'.join(map(str,sessions))\n",
    "    save_for_later['m%d_sessions_%s'%(animal,sns)] = {\n",
    "        'delta_days':dd,\n",
    "        'median_normalized_R2':md\n",
    "    }\n",
    "    \n",
    "    p5  = [percentile(r,5 ) for r in r2]\n",
    "    p95 = [percentile(r,95) for r in r2]\n",
    "    fill_between(dd,p5,p95,color=BLACK,alpha=0.2,lw=0)\n",
    "    plot(dd,md,color=BLACK)\n",
    "    xlabel('Δ days')\n",
    "    if i==0:\n",
    "        ylabel('Concatenated\\nNormalized R²\\nForward Position')\n",
    "    simpleaxis()\n",
    "    title('M%d'%animal,fontsize=11)\n",
    "    axhline(100,color='k',lw=1,linestyle=':')\n",
    "    xticks([0,max(dd)])\n",
    "    fudgex(7.25)\n",
    "    \n",
    "    mxd = np.max(dd)+1\n",
    "    u = mu[i][:mxd]\n",
    "    s = ss[i][:mxd]\n",
    "    plot(u*100,color=OCHRE)\n",
    "    fill_between(arange(mxd),\n",
    "                 (u-1.96*s)*100,\n",
    "                 (u+1.96*s)*100,\n",
    "                 color=OCHRE,\n",
    "                 alpha=0.2,lw=0)\n",
    "\n",
    "    ylim(ylim()[0],ylim()[0]+(100-ylim()[0])*1.1)\n",
    "\n",
    "tight_layout()\n",
    "subplots_adjust(wspace=0.7)\n",
    "figurebox()\n",
    "\n",
    "savemat('./datafiles/F3D_data_traces_median.mat',save_for_later)\n",
    "savefig('F3D.svg',)"
   ]
  }
 ],
 "metadata": {
  "kernelspec": {
   "display_name": "Python 3",
   "language": "python",
   "name": "python3"
  },
  "language_info": {
   "codemirror_mode": {
    "name": "ipython",
    "version": 3
   },
   "file_extension": ".py",
   "mimetype": "text/x-python",
   "name": "python",
   "nbconvert_exporter": "python",
   "pygments_lexer": "ipython3",
   "version": "3.8.2"
  }
 },
 "nbformat": 4,
 "nbformat_minor": 4
}
