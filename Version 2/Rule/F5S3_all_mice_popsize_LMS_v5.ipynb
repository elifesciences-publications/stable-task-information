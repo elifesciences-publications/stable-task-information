{
 "cells": [
  {
   "cell_type": "markdown",
   "metadata": {},
   "source": [
    "# Combine mice to simulate a large recorded population"
   ]
  },
  {
   "cell_type": "code",
   "execution_count": 1,
   "metadata": {},
   "outputs": [
    {
     "name": "stdout",
     "output_type": "stream",
     "text": [
      "Data location is /home/mer49/Workspace2/PPC_data/\n",
      "numpy configured\n",
      "Matplotlib configured\n"
     ]
    }
   ],
   "source": [
    "%load_ext autoreload\n",
    "%autoreload 2\n",
    "%matplotlib inline\n",
    "\n",
    "# Add local scripts to path\n",
    "import os,sys\n",
    "sys.path.insert(0,os.path.abspath(\"./\"))\n",
    "import neurotools\n",
    "\n",
    "# Set up cache\n",
    "from neurotools.jobs.initialize_system_cache import initialize_caches,cache_test\n",
    "PYCACHEDIR = os.path.abspath('./')\n",
    "CACHENAME  = 'PPC_cache'\n",
    "from neurotools.tools import ensure_dir\n",
    "ensure_dir(PYCACHEDIR+os.sep+CACHENAME)\n",
    "initialize_caches(\n",
    "    level1  = PYCACHEDIR,\n",
    "    force   = False,\n",
    "    verbose = False,\n",
    "    CACHE_IDENTIFIER = CACHENAME)\n",
    "\n",
    "# Import libraries\n",
    "from neurotools.nlab import *\n",
    "import ppc_data_loader\n",
    "\n",
    "# Set this to the location of the PPC data on your machine\n",
    "ppc_data_loader.path = '/home/mer49/Dropbox (Cambridge University)/Datasets/PPC_data/'\n",
    "from ppc_data_loader   import *\n",
    "from ppc_trial         import *\n",
    "\n",
    "# Configure Numpy\n",
    "np.set_printoptions(precision=3)\n",
    "import warnings\n",
    "warnings.filterwarnings(\"ignore\",\"scipy\")\n",
    "np.seterr(all='ignore')\n",
    "np.set_printoptions(precision=2)\n",
    "print('numpy configured')\n",
    "\n",
    "# Configure Matplotlib\n",
    "import matplotlib as mpl\n",
    "mpl.rcParams['figure.dpi'] = 120\n",
    "TEXTWIDTH = 5.62708\n",
    "FIGWIDTH,FIGHEIGHT = TEXTWIDTH, TEXTWIDTH/sqrt(2)\n",
    "matplotlib.rcParams['figure.figsize'] = (FIGWIDTH,FIGHEIGHT)\n",
    "import warnings\n",
    "from matplotlib import MatplotlibDeprecationWarning\n",
    "warnings.filterwarnings(\"ignore\",category=MatplotlibDeprecationWarning)\n",
    "SMALL_SIZE = 7\n",
    "MEDIUM_SIZE = 8\n",
    "BIGGER_SIZE = 9\n",
    "matplotlib.rc('font' , size   =SMALL_SIZE ) # controls default text sizes\n",
    "matplotlib.rc('axes' , titlesize=MEDIUM_SIZE) # fontsize of the axes title\n",
    "matplotlib.rc('axes' , labelsize=MEDIUM_SIZE) # fontsize of the x and y labels\n",
    "matplotlib.rc('xtick' , labelsize=SMALL_SIZE ) # fontsize of the tick labels\n",
    "matplotlib.rc('ytick' , labelsize=SMALL_SIZE ) # fontsize of the tick labels\n",
    "matplotlib.rc('legend', fontsize =SMALL_SIZE ) # legend fontsize\n",
    "matplotlib.rc('figure', titlesize=BIGGER_SIZE) # fontsize of the figure title\n",
    "matplotlib.rc('lines' , solid_capstyle='round')\n",
    "matplotlib.rcParams['image.cmap'] = 'parula'\n",
    "from cycler import cycler\n",
    "matplotlib.rcParams['axes.prop_cycle'] = cycler(color=[BLACK,RUST,TURQUOISE,OCHRE,AZURE,MAUVE,MOSS,INDEGO,VIOLET,VERIDIAN,CRIMSON])\n",
    "matplotlib.rc('savefig',dpi=240) \n",
    "print('Matplotlib configured')\n",
    "\n",
    "import pickle\n",
    "np.random.seed(0)"
   ]
  },
  {
   "cell_type": "markdown",
   "metadata": {},
   "source": [
    "# Find neurons \n",
    "\n",
    "We will merge these into a single virtual mouse. "
   ]
  },
  {
   "cell_type": "code",
   "execution_count": 2,
   "metadata": {},
   "outputs": [
    {
     "name": "stdout",
     "output_type": "stream",
     "text": [
      "Mouse 1\n",
      "Mouse 2\n",
      "Mouse 3\n",
      "Mouse 4\n",
      "Mouse 5\n"
     ]
    }
   ],
   "source": [
    "unitmap = {}\n",
    "for animal in get_subject_ids():\n",
    "    print('Mouse %d'%animal)\n",
    "    unitmap[animal] = get_unit_availability_map_by_days(animal)"
   ]
  },
  {
   "cell_type": "markdown",
   "metadata": {},
   "source": [
    "## Register sessions ↔ days"
   ]
  },
  {
   "cell_type": "code",
   "execution_count": 3,
   "metadata": {},
   "outputs": [],
   "source": [
    "session_to_day = {}\n",
    "day_to_session = {}\n",
    "for animal in get_subject_ids():\n",
    "    sessions = int32(get_session_ids(animal))\n",
    "    s = sessions[0]\n",
    "    hdfdata = get_data(animal,s)\n",
    "    Δd = int32(getHDF(hdfdata,'session_obj/deltaDays'))\n",
    "    hdfdata.close()\n",
    "    for s in sessions:\n",
    "        d = Δd[s-1]\n",
    "        session_to_day[animal,s] = d\n",
    "        day_to_session[animal,d] = s"
   ]
  },
  {
   "cell_type": "markdown",
   "metadata": {},
   "source": [
    "## Gather units with spans of sessions with no more than a 2 day gap"
   ]
  },
  {
   "cell_type": "code",
   "execution_count": 4,
   "metadata": {},
   "outputs": [
    {
     "name": "stdout",
     "output_type": "stream",
     "text": [
      "1238 units identified\n"
     ]
    }
   ],
   "source": [
    "MINDAYS = 6\n",
    "MAXSKIP = 3\n",
    "\n",
    "def get_ok_spans(days_present,MAXSKIP=2,MINDAYS=9):\n",
    "    spans   = []\n",
    "    span    = []\n",
    "    missing = 0\n",
    "    for d,b in enumerate(days_present):\n",
    "        if b:\n",
    "            span.append(d)\n",
    "            missing = 0\n",
    "        elif missing<=MAXSKIP:\n",
    "            missing += 1\n",
    "            if missing>MAXSKIP:\n",
    "                spans.append(span)\n",
    "                span = []\n",
    "    return [s for s in spans if len(s)>=MINDAYS]\n",
    "\n",
    "use_units = []\n",
    "for animal,units in unitmap.items():\n",
    "    for iunit,unit in enumerate(units.T):\n",
    "        spans = get_ok_spans(unit,MAXSKIP,MINDAYS)\n",
    "        if len(spans)>0:\n",
    "            span = spans[0] # Only use each neuron once\n",
    "            sessions = [day_to_session[animal,d+1] for d in span]\n",
    "            use_units.append((animal,iunit,sessions[:MINDAYS]))\n",
    "\n",
    "print('%d units identified'%len(use_units))"
   ]
  },
  {
   "cell_type": "markdown",
   "metadata": {},
   "source": [
    "## Get Pseudotime-aligned activity for each unit\n",
    "\n",
    "Each unit has an associated range of sessions. For each unit and session, get all (valid) trials from that session. Separate trials into groups with matching cue and previous-trial cue. "
   ]
  },
  {
   "cell_type": "code",
   "execution_count": 5,
   "metadata": {},
   "outputs": [],
   "source": [
    "def get_ok_spans(days_present,MAXSKIP=2,MINDAYS=9):\n",
    "    spans   = []\n",
    "    span    = []\n",
    "    missing = 0\n",
    "    for d,b in enumerate(days_present):\n",
    "        if b:\n",
    "            span.append(d)\n",
    "            missing = 0\n",
    "        elif missing<=MAXSKIP:\n",
    "            missing += 1\n",
    "            if missing>MAXSKIP:\n",
    "                spans.append(span)\n",
    "                span = []\n",
    "    return [s for s in spans if len(s)>=MINDAYS]\n",
    "    \n",
    "@memoize\n",
    "def get_all_long_term_neurons(MAXSKIP=2,MINDAYS=9):\n",
    "    use_units = []\n",
    "    for animal,units in unitmap.items():\n",
    "        for iunit,unit in enumerate(units.T):\n",
    "            spans = get_ok_spans(unit,MAXSKIP,MINDAYS)\n",
    "            if len(spans)>0:\n",
    "                span = spans[0] # Only use each neuron once\n",
    "                sessions = [day_to_session[animal,d+1] for d in span]\n",
    "                use_units.append((animal,iunit,sessions[:MINDAYS]))\n",
    "    return use_units\n",
    "\n",
    "@memoize\n",
    "def get_pseudotime_aligned_by_trial_type(a,s,ui,\n",
    "                                         TIMERES=100,\n",
    "                                         JITTER =25):\n",
    "    \"\"\"\n",
    "    We need to know about the trial structure for every unit\n",
    "    Matched trials based on cue and previous cue\n",
    "    This takes a while to compute, so save results on disk for later. \n",
    "    \"\"\"\n",
    "    # Align neural data to pseudotime\n",
    "    at = align_trials(a,[s],[get_dFF(a,s,[ui]).T],\n",
    "                      PSTIMERES=TIMERES,\n",
    "                      JITTER   =JITTER)[0].squeeze()\n",
    "    # Group by trial type\n",
    "    trials = array(get_trials_with_context(a,s,JITTER=JITTER))\n",
    "    types  = int32([t.previous.cue*2+t.cue for t in trials])\n",
    "    snips  = [at[find(types==ty)] for ty in range(4)]\n",
    "    return snips\n",
    "\n",
    "@memoize\n",
    "def get_trial_aligned_long_term_neurons(MAXSKIP=2,MINDAYS=9):\n",
    "    units = get_all_long_term_neurons(MAXSKIP=MAXSKIP,MINDAYS=MINDAYS)\n",
    "    \n",
    "    # Run in parallel since this is time-consuming\n",
    "    # Shuffle jobs to reduce the number of threads accessing each file\n",
    "    # (this seems to cause problems on some systems)\n",
    "    # Set debug=True to disbable parallelism if problem arise\n",
    "    jobs    = [(a,s,ui,100,25) for a,ui,ss in units for s in ss]\n",
    "    np.random.shuffle(jobs)\n",
    "    print('Converting to trial pseudotime')\n",
    "    results = parimap(get_pseudotime_aligned_by_trial_type,jobs,debug=False)\n",
    "    \n",
    "    # Results are in no particular order, since we shuffled the jobs\n",
    "    # However, all results are now cached, so we can go back and read\n",
    "    # them in order.\n",
    "    # Extract Calcium signals for each unit,session,trial type\n",
    "    all_snips = []\n",
    "    for a,ui,ss in progress_bar(units): \n",
    "        unit_snips = []\n",
    "        for s in ss:\n",
    "            unit_snips.append(get_pseudotime_aligned_by_trial_type(a,s,ui))\n",
    "        all_snips.append(unit_snips)\n",
    "\n",
    "    # For every unit, we have a list of sessions, which each have a \n",
    "    # list of trials of each type. We'd like to merge all these \n",
    "    # together. First, we need to treat each session separately. So, \n",
    "    # re-organize the data into sessions. Then, every unit will have \n",
    "    # four lists, each list containing the available trials. We want to \n",
    "    # \"zip\" each of these lists across units. Then, we merge these in \n",
    "    # (approximate) temporal order.\n",
    "    trialdata = []\n",
    "    for si in range(MINDAYS):\n",
    "        s = array([u[si] for u in all_snips]).T\n",
    "        z = array([array(list(zip(*x))) for x in s])\n",
    "        k = [(i,j) for i in range(4) for j in range(len(z[i]))]\n",
    "        l = [r for x in z \n",
    "             for r in linspace(0,1,x.shape[0])+rand()/x.shape[0]]\n",
    "        x = array([z[i][j].T for (i,j) in array(k)[argsort(l)]])\n",
    "        trialdata.append(x)\n",
    "    return trialdata\n",
    "\n",
    "trialdata = get_trial_aligned_long_term_neurons(MAXSKIP,MINDAYS)"
   ]
  },
  {
   "cell_type": "markdown",
   "metadata": {},
   "source": [
    "## Test decoding"
   ]
  },
  {
   "cell_type": "code",
   "execution_count": 6,
   "metadata": {},
   "outputs": [
    {
     "name": "stdout",
     "output_type": "stream",
     "text": [
      "97.40% variance explained\n"
     ]
    },
    {
     "data": {
      "text/plain": [
       "Text(0, 0.5, 'Decoded task phase (%)')"
      ]
     },
     "execution_count": 6,
     "metadata": {},
     "output_type": "execute_result"
    },
    {
     "data": {
      "image/png": "[encoded data removed]",
      "text/plain": [
       "<Figure size 1200x240 with 1 Axes>"
      ]
     },
     "metadata": {
      "needs_background": "light"
     },
     "output_type": "display_data"
    }
   ],
   "source": [
    "zeromeaned = array([zeromean(x,axis=1) for x in trialdata])\n",
    "ols_trainz = cat(zeromeaned)\n",
    "Ntrials, Ntimes, Nneurons = ols_trainz.shape\n",
    "ols_trainx = ones(Ntrials)[:,None]*linspace(-1,1,Ntimes)[None,:]\n",
    "ols_trainz = ols_trainz.reshape((Ntrials*Ntimes,Nneurons))\n",
    "ols_trainx = ols_trainx.reshape((Ntrials*Ntimes,1))\n",
    "ols_w,ols_xhat,_,ols_rms = crossvalidated_least_squares(ols_trainz,ols_trainx,10)\n",
    "print('%4.2f%% variance explained'%((1-(ols_rms/std(ols_trainx))**2)*100))\n",
    "\n",
    "figure(figsize=(10,2))\n",
    "plot(100*(ols_xhat*0.5+0.5),label='Esimated')\n",
    "plot(100*(ols_trainx*0.5+0.5),label='True')\n",
    "simpleraxis()\n",
    "xlim(15000,15000+2000)\n",
    "xlabel('Pseudotime (1 trial = 100 timepoints)')\n",
    "ylabel('Decoded task phase (%)')"
   ]
  },
  {
   "cell_type": "markdown",
   "metadata": {},
   "source": [
    "## Test LMS"
   ]
  },
  {
   "cell_type": "code",
   "execution_count": 7,
   "metadata": {},
   "outputs": [],
   "source": [
    "def run_LMS(X,Y,w0=None,rate=1,reg=1e-12,normalized=False,delta=None,clip=None):\n",
    "    '''\n",
    "    Run the LMS algorithm \n",
    "    s\n",
    "    Parameters\n",
    "    ----------\n",
    "    X: array-like; Nsamples x Nfeatures\n",
    "        Independent (input) variables\n",
    "    Y: array-like; Nsamples x Noutputs\n",
    "        Dependent (output) variables\n",
    "    \n",
    "    Other Parameters\n",
    "    ----------------\n",
    "    w0: array-like\n",
    "        Initial parameter weighers\n",
    "    rate: scalar, default 1\n",
    "        Learning rate\n",
    "    reg: scalar, default 1e-12\n",
    "        L2 regularization penalty to shrink weight\n",
    "    normalized: bool, default True\n",
    "        Whether to run the Normalized LMS\n",
    "    delta: positive scalar, default is None\n",
    "        (This is not used in the paper.)\n",
    "        If not `None`, we will report not the true weights\n",
    "        but the a process that tracks the true rates, with \n",
    "        a limit of `delta` change/timestep. In theory,\n",
    "        this would correspond to a slow process (e.g. \n",
    "        synaptic size change), while the actual fast changes\n",
    "        in synaptic strength are handled by some other \n",
    "        process.\n",
    "    clip: positive scalar, default is None\n",
    "        If not `None`, then weight changes will be limited\n",
    "        to be no larger than this value (up to floating point\n",
    "        accuracy). This is important for enforcing an upper\n",
    "        bound on the rate of weight change. \n",
    "\n",
    "    Returns\n",
    "    -------\n",
    "    all_w:\n",
    "        Weights over time\n",
    "    all_e;\n",
    "        Errors over time\n",
    "    all_yh:\n",
    "        Predicted kinematics over time\n",
    "    '''\n",
    "    X = np.array(X)\n",
    "    Y = np.array(Y)\n",
    "    if len(Y.shape)==1:\n",
    "        Y = array([Y]).T\n",
    "    rate  = np.float32(rate)\n",
    "    if not delta is None:\n",
    "        delta = np.abs(np.float32(delta))\n",
    "    if not clip  is None:\n",
    "        clip  = np.abs(np.float32(clip))\n",
    "    Nsamples   = Y.shape[0]\n",
    "    Nfeatures  = X.shape[1]\n",
    "    Nkinematic = Y.shape[1]\n",
    "    # Initial weights\n",
    "    w = zeros((Nfeatures,Nkinematic)) if w0 is None\\\n",
    "        else np.array(w0).reshape((Nfeatures,Nkinematic))\n",
    "    # Tracking weights\n",
    "    u = w.copy()\n",
    "    # Store a history of weights, errors, and decoder estiamtes\n",
    "    all_w  = zeros((Nsamples+1,Nfeatures,Nkinematic))\n",
    "    all_e  = zeros((Nsamples,Nkinematic))\n",
    "    all_yh = zeros((Nsamples,Nkinematic))\n",
    "    all_w[0] = w\n",
    "    # Shrinkage penalty\n",
    "    λ = exp(-reg)\n",
    "    # Run LMS algorithm\n",
    "    for t in range(Nsamples):\n",
    "        x    = X[t:t+1] # 1×Nfeat; intput features\n",
    "        y    = Y[t:t+1] # 1×Nkine; decoded kinematics\n",
    "        yh   = x @ w    # 1×Nfeat∙Nfeat×Nkine; prediction\n",
    "        e    = y-yh     # 1×Nkine; errors\n",
    "        # 1x1; weight update strength (normalized)\n",
    "        α    = (rate/x @ x.T) if normalized else rate \n",
    "        dw   = (α*x.T@ e) # Nfeat×1∙1×Nkine; weight update\n",
    "        # L2 regularize (not applied to DC parameter)\n",
    "        dw[:-1] = (w[:-1]+dw[:-1])*λ-w[:-1]\n",
    "        # Clipped weight updates\n",
    "        w   += dw if clip is None else np.clip(dw,-clip,clip)\n",
    "        # Clipped tracking\n",
    "        u = w if delta is None else u+np.clip(w-u,-delta,delta)\n",
    "        all_w [t+1] = u\n",
    "        all_e [t  ] = e\n",
    "        all_yh[t  ] = yh\n",
    "        if not clip is None:\n",
    "            assert(np.all(np.abs(all_w[t+1]-all_w[t])<=clip*(1+1e-7)))\n",
    "        if not delta is None:\n",
    "            assert(np.all(np.abs(all_w[t+1]-all_w[t])<=delta*(1+1e-7)))\n",
    "    if not delta is None:\n",
    "        all_yh = np.sum(X[:,:,None] * all_w[:-1],axis=1)\n",
    "        all_e  = Y - all_yh\n",
    "    all_w = all_w[1:]\n",
    "    return all_w,all_e,all_yh\n"
   ]
  },
  {
   "cell_type": "code",
   "execution_count": 8,
   "metadata": {},
   "outputs": [
    {
     "name": "stdout",
     "output_type": "stream",
     "text": [
      "Non-training error level is 0.17554686130692\n",
      "LMS error is 0.10463410832648445\n",
      "Concat error is 0.07599993166709207\n"
     ]
    }
   ],
   "source": [
    "trialdata = get_trial_aligned_long_term_neurons(MAXSKIP,MINDAYS)#MINDAYS=MINDAYS)\n",
    "z = cat(array([zeromean(x,axis=1) for x in trialdata]))\n",
    "Ntrials, Ntimes, Nneurons = z.shape\n",
    "x = ones(Ntrials)[:,None]*linspace(-1,1,Ntimes)[None,:]\n",
    "\n",
    "ntrain = 20 # Initial # trials to train\n",
    "trainz = cat(z[:ntrain])\n",
    "trainx = cat(x[:ntrain])\n",
    "testz  = cat(z[ntrain:])\n",
    "testx  = cat(x[ntrain:])\n",
    "\n",
    "w0 = reglstsq(trainz,trainx)\n",
    "xc = crossvalidated_least_squares(testz,testx,10)[1]\n",
    "ec = testx - xc\n",
    "x0 = (testz @ w0).ravel()\n",
    "e0 = testx - x0\n",
    "\n",
    "w,e,h = run_LMS(testz,testx,w0,rate=8e-4,reg=0,delta=None,clip=None)\n",
    "\n",
    "print('Non-training error level is',mean(abs(e0)))\n",
    "print('LMS error is',mean(abs(e)))\n",
    "print('Concat error is',mean(abs(ec)))"
   ]
  },
  {
   "cell_type": "code",
   "execution_count": 9,
   "metadata": {},
   "outputs": [],
   "source": [
    "# Estimate typical trial duration\n",
    "lens = []\n",
    "for a in (2,3,5):\n",
    "    for s in get_session_ids(a):\n",
    "        lens += [t.nsample for t in get_basic_trial_info(a,s)]\n",
    "mdt = mean(lens)/5.3/100\n",
    "mabsw = mean(abs(w))\n",
    "SMOOTH = Ntimes*10\n",
    "\n",
    "# Edges of virtual sessions\n",
    "ntrials_per_session = array([len(t) for t in trialdata])\n",
    "ntimes_per_session  = Ntimes*ntrials_per_session\n",
    "session_edges       = cat([[0],cumsum(ntimes_per_session)])\n",
    "edges               = np.maximum(0,session_edges-ntrain*Ntimes)\n",
    "\n",
    "# Smooth errors within sessions\n",
    "def avg_error(e):\n",
    "    e = abs(e.ravel())\n",
    "    N = len(e)\n",
    "    e = median_filter(e,SMOOTH,mode='valid')\n",
    "    return interp1d(linspace(0,N-1,len(e)),e)(arange(N))\n",
    "plot_e0 = cat([avg_error(e0[edges[i]:edges[i+1]]) for i in range(MINDAYS)])\n",
    "plot_ec = cat([avg_error(ec[edges[i]:edges[i+1]]) for i in range(MINDAYS)])\n",
    "plot_e  = cat([avg_error(e [edges[i]:edges[i+1]]) for i in range(MINDAYS)])"
   ]
  },
  {
   "cell_type": "markdown",
   "metadata": {},
   "source": [
    "### %matplotlib inline\n",
    "from cycler import cycler\n",
    "matplotlib.rcParams['axes.prop_cycle'] = cycler(color=[BLACK,RUST,TURQUOISE,OCHRE,AZURE])\n",
    "matplotlib.rcParams['figure.dpi']=150\n",
    "\n",
    "figure(figsize=(10,3.2))\n",
    "\n",
    "subplot(211)\n",
    "plot(100*(ols_trainx[Ntimes*ntrain:]*0.5+0.5),label='True',color='k',linestyle='-',lw=1)\n",
    "plot(100*(h*0.5+0.5),label='LMS',color=BLACK,linestyle='-',lw=2)\n",
    "simpleraxis()\n",
    "t0 = 15000\n",
    "t1 = t0 + 500\n",
    "xlim(t0,t1)\n",
    "xlabel('Pseudotime (1 trial = 100 timepoints)')\n",
    "ylabel('Task phase (%)')\n",
    "rightlegend()\n",
    "ylim(-1,101)\n",
    "\n",
    "subplot(212)\n",
    "trialNo = arange(len(plot_e0))/Ntimes\n",
    "plot(trialNo,0.5*100*plot_e ,label='LMS',color=BLACK)\n",
    "plot(trialNo,0.5*100*plot_e0,label='No learning',color=RUST)\n",
    "plot(trialNo,0.5*100*plot_ec,label='Concatenated',color=TURQUOISE)\n",
    "simpleraxis()\n",
    "ylabel('Error (%)')\n",
    "rightlegend()\n",
    "print('Getting weight change statistics')\n",
    "samples_per_trial   = 100\n",
    "trials_in_total     = len(x)\n",
    "sessions_in_total   = MINDAYS\n",
    "trials_per_session  = trials_in_total/sessions_in_total\n",
    "samples_used_LMS    = len(testx)\n",
    "trials_used_LMS     = trials_in_total - ntrain\n",
    "sessions_used_LMS   = trials_used_LMS/trials_per_session\n",
    "samples_per_session = samples_used_LMS / sessions_used_LMS\n",
    "print('Testing data covers %f sessions'%sessions_used_LMS)\n",
    "# Average %Δw / session\n",
    "D = int(samples_per_session)\n",
    "mabsd = mean(abs(w[D:,...]-w[:-D,...]))/mean(abs(w))*100\n",
    "print('Mean %%Δweight over time corresponding to 1 session %0.2f'%mabsd)\n",
    "for t in edges: \n",
    "    axvline(t/Ntimes,color=BLACK,lw=0.9,clip_on=0)\n",
    "ytext = ylim()[0]+diff(ylim())*1.15\n",
    "for s,middle in enumerate(0.5*(edges[1:]+edges[:-1])):\n",
    "    text(middle/Ntimes,ytext,'%d'%(s+1),ha='center',va='bottom')\n",
    "text(0,ytext,'Day:',ha='right',va='bottom')\n",
    "xlabel('# of cumulative training trials')\n",
    "\n",
    "tight_layout()\n",
    "\n",
    "savefigure('manymouse_LMS_summary_8e-4_learning_rate_%d_days_%d_skip'%(MINDAYS,MAXSKIP),snap=False)"
   ]
  },
  {
   "cell_type": "markdown",
   "metadata": {},
   "source": [
    "# Adjusting learning rate to give a target error level\n",
    "\n",
    "This is done via binary search, and is very slow. "
   ]
  },
  {
   "cell_type": "code",
   "execution_count": 11,
   "metadata": {},
   "outputs": [],
   "source": [
    "def summarize_LMS_result(animal,sessions,result,verbose=True):\n",
    "    '''\n",
    "    Expects a `result` dictionary with the keys `w`, `ec`, `e`, `y`, and `e0`\n",
    "    '''\n",
    "    slens, edges           = get_session_lengths(animal,sessions,PRETRAIN)\n",
    "    weights                = result['w']\n",
    "    end_of_session_weights = weights[edges,:-1] #exclude constant weight\n",
    "    inter_session_Δweights = diff(end_of_session_weights,axis=0)\n",
    "    days                   = [daymap[animal,s] for s in sessions]\n",
    "    Δdays                  = diff(days)[PRETRAIN-1:]\n",
    "    Δweight_per_Δday       = inter_session_Δweights/Δdays[:,None]\n",
    "    MABS_Δw_per_Δday       = mean(abs(Δweight_per_Δday))\n",
    "    MABSW                  = mean(abs(weights))\n",
    "    MABS_Δw_pct_per_day    = mean(MABS_Δw_per_Δday)/MABSW*100\n",
    "    ec = mean(abs(result['ec']))\n",
    "    er = mean(abs(result['e']))\n",
    "    \n",
    "    variance  = var(result['x'])\n",
    "    residuals = var(result['e'])\n",
    "    explained = variance-residuals\n",
    "    pctΔvlms  = 100*explained/variance\n",
    "    \n",
    "    variance  = var(result['x'])\n",
    "    residuals = var(result['ec'])\n",
    "    explained = variance-residuals\n",
    "    pctΔvcat  = 100*explained/variance\n",
    "    \n",
    "    variance  = var(result['x'])\n",
    "    residuals = var(result['e0'])\n",
    "    explained = variance-residuals\n",
    "    pctΔvfix  = 100*explained/variance\n",
    "    \n",
    "    if not pctΔvcat>pctΔvfix:\n",
    "        raise ValueError('Expected concat. performance to be better than no learning?')\n",
    "    \n",
    "    if abs(pctΔvlms-pctΔvfix)/pctΔvfix<1e-6:\n",
    "        relperf = 0\n",
    "    else:\n",
    "        relperf = (pctΔvlms-pctΔvfix)/(pctΔvcat-pctΔvfix)*100\n",
    "        \n",
    "    if verbose:\n",
    "        print('Mouse %s sessions %s'%(animal,sessions))\n",
    "        print(' Average change is %0.2f%% per day'%MABS_Δw_pct_per_day)\n",
    "        print(' Concatenated error level is %2f'%ec)\n",
    "        print(' LMS          error level is %2f'%er)\n",
    "        print(' %% explained variance %0.2f LMS'%pctΔvlms)\n",
    "        print(' %% explained variance %0.2f Concat.'%pctΔvcat)\n",
    "        print(' %% explained variance %0.2f Fixed'%pctΔvfix)\n",
    "        print(' Relative performance %0.2f%%'%relperf)\n",
    "    return relperf,MABS_Δw_pct_per_day\n",
    "\n",
    "def get_plasticity_level_fixed_error(\n",
    "                         units,\n",
    "                         FIXED_ERROR,\n",
    "                         minrate  = 1e-6,\n",
    "                         maxrate  = 1e-2,\n",
    "                         reg      = 1e-5,\n",
    "                         PRETRAIN = 1,\n",
    "                         NXVAL    = 10,\n",
    "                         TOL      = 1e-3,\n",
    "                         verbose  = False):\n",
    "    \n",
    "    # Identify target accuracy level: from concatenated performance\n",
    "    wc,xc,_ = trial_crossvalidated_least_squares([zi[:,units] for zi in z[ntrain:]],x[ntrain:],NXVAL,shuffle=True)\n",
    "    ec = testx - xc\n",
    "    MABSEC = mean(abs(ec))\n",
    "\n",
    "    # Identify initial weights and error without more learning:\n",
    "    w0 = reglstsq(trainz[:,units],trainx)\n",
    "    xh = (testz[:,units] @ w0).reshape(testx.shape)\n",
    "    e0  = testx - xh\n",
    "    MABSE0 = mean(abs(e0))\n",
    "\n",
    "    def get_mabse_for_rate(rate):\n",
    "        # Small subroutine\n",
    "        try:\n",
    "            w,e,xh = run_LMS(testz[:,units],testx,w0,rate=rate,reg=reg)\n",
    "            return {\n",
    "                'MABSE':mean(abs(e)),\n",
    "                'x' :testx,\n",
    "                'e0':e0,\n",
    "                'ec':ec,\n",
    "                'w' :w.squeeze(),\n",
    "                'e' :e.squeeze(),\n",
    "                'xh':xh.squeeze()}\n",
    "        except FloatingPointError:\n",
    "            # Return something unreasonably large\n",
    "            #return mean(abs(Ytest))*10\n",
    "            w  = np.repeat(w0,len(testx))\n",
    "            xh = mean(testx)*np.ones(testx.shape)\n",
    "            e  = xtest-xh\n",
    "            return {\n",
    "                'MABSE':np.nan,\n",
    "                'x' :testx,\n",
    "                'e0':e0,\n",
    "                'ec':ec,\n",
    "                'w' :w.squeeze(),\n",
    "                'e' :e.squeeze(),\n",
    "                'xh':xh.squeeze()}\n",
    "    \n",
    "    #Find fastest stable learning rate\n",
    "    Σ = (testz[:,units].T @ testz[:,units])/ testx.shape[0]\n",
    "    e,v = psd_eig(Σ)\n",
    "    λmax = np.max(abs(e))\n",
    "    λmaxrate = 2/λmax\n",
    "    if maxrate>λmaxrate:\n",
    "        warnings.warn('Max. learning rate is unstable')\n",
    "    \n",
    "    # Start with getting weight change at max/min learning rates\n",
    "    performances = {}\n",
    "    performances[minrate] = get_mabse_for_rate(minrate)['MABSE']\n",
    "    performances[maxrate] = get_mabse_for_rate(maxrate)['MABSE']\n",
    "    \n",
    "    # Binary search to match target performance\n",
    "    lower_rate = minrate\n",
    "    upper_rate = maxrate\n",
    "    while True:\n",
    "        # Identify pivot\n",
    "        perfs = [performances[lower_rate],performances[upper_rate]]\n",
    "        rates = log(array([lower_rate,upper_rate])).ravel()\n",
    "        if verbose:\n",
    "            print(perfs)\n",
    "            print(rates)\n",
    "        if any(np.isnan(perfs)):\n",
    "            rate = exp(mean(rates))\n",
    "            warnings.warn('Undefined performance at one limit, using midpoint')\n",
    "        else:\n",
    "            if FIXED_ERROR<min(perfs):\n",
    "                warnings.warn('Cannot achieve desired error level')\n",
    "                return np.NaN,MABSE0,MABSEC,np.NaN,np.NaN,np.NaN\n",
    "            if FIXED_ERROR>max(perfs):\n",
    "                warnings.warn('Required error level is unrealistically large')\n",
    "                return np.NaN,MABSE0,MABSEC,np.NaN,np.NaN,np.NaN\n",
    "            rate  = exp(interp1d(perfs,rates)(FIXED_ERROR))\n",
    "        # Test pivot\n",
    "        result = get_mabse_for_rate(rate)\n",
    "        MABSE = result['MABSE']\n",
    "        performances[rate] = MABSE\n",
    "        \n",
    "        # Check convergence, update limits and iterate\n",
    "        if MABSE>FIXED_ERROR and (MABSE-FIXED_ERROR)/FIXED_ERROR<TOL: break\n",
    "        if MABSE>FIXED_ERROR: lower_rate = rate\n",
    "        else:                 upper_rate = rate\n",
    "        \n",
    "    w = result['w']\n",
    "    D = int(samples_per_session)\n",
    "    MABSW = mean(abs(w))\n",
    "    MABSD = mean(abs(w[D:,...]-w[:-D,...]))\n",
    "    MABSP = MABSD/MABSW*100\n",
    "        \n",
    "    #Expects a `result` dictionary with the keys `w`, `ec`, `e`, `y`, and `e0`\n",
    "    # rperf,MABS_Δw_pct_per_day=summarize_LMS_result(animal,sessions,result,verbose=False)\n",
    "    # Get summary rate of weight change\n",
    "    return MABSP,rate,MABSE0,MABSEC,MABSE,MABSW,MABSD"
   ]
  },
  {
   "cell_type": "markdown",
   "metadata": {},
   "source": [
    "## Test search code"
   ]
  },
  {
   "cell_type": "code",
   "execution_count": 12,
   "metadata": {},
   "outputs": [
    {
     "name": "stdout",
     "output_type": "stream",
     "text": [
      "Skipping search test\n"
     ]
    }
   ],
   "source": [
    "DO_TEST = False\n",
    "units = arange(trainz.shape[1])\n",
    "if DO_TEST:\n",
    "    print(get_plasticity_level_fixed_error(\n",
    "     units,\n",
    "     0.1,\n",
    "     minrate  = 1e-6,\n",
    "     maxrate  = 1e-2,\n",
    "     reg      = 1e-5,\n",
    "     PRETRAIN = 1,\n",
    "     NXVAL    = 10,\n",
    "     verbose  = False))\n",
    "    print('done')\n",
    "else:\n",
    "    print('Skipping search test')"
   ]
  },
  {
   "cell_type": "markdown",
   "metadata": {},
   "source": [
    "## Sample performance with subsets of neurons"
   ]
  },
  {
   "cell_type": "code",
   "execution_count": 13,
   "metadata": {},
   "outputs": [
    {
     "name": "stdout",
     "output_type": "stream",
     "text": [
      "Testing subsets of 1237 neurons\n"
     ]
    }
   ],
   "source": [
    "Nnunits   = 25\n",
    "Nreplicas = 50\n",
    "\n",
    "# Define unit sets to check\n",
    "Nneurons  = trainz.shape[1]-1\n",
    "print('Testing subsets of %d neurons'%Nneurons)\n",
    "Ntest     = array(sorted(list(set(int32(2**linspace(-2,0,Nnunits)*Nneurons)))))\n",
    "unit_sets = []\n",
    "for unit_number in Ntest[:-1]:\n",
    "    for replica in range(Nreplicas):\n",
    "        # Use random subset of neurons\n",
    "        use_features = sorted(np.random.choice(arange(Nneurons),unit_number,replace=False))\n",
    "        # always include the constant feature\n",
    "        use_features = cat([use_features,[Nneurons]])\n",
    "        unit_sets.append(use_features)\n",
    "# Include set of all neurons once\n",
    "unit_sets.append(arange(Nneurons+1))\n"
   ]
  },
  {
   "cell_type": "code",
   "execution_count": 14,
   "metadata": {},
   "outputs": [
    {
     "name": "stdout",
     "output_type": "stream",
     "text": [
      "1201\n"
     ]
    }
   ],
   "source": [
    "TARGET_ERROR = 0.1\n",
    "MINRATE      = 1e-6\n",
    "MAXRATE      = 0.5e-1\n",
    "jobs         = unit_sets\n",
    "print(len(jobs))"
   ]
  },
  {
   "cell_type": "markdown",
   "metadata": {},
   "source": [
    "# *STOP*\n",
    "\n",
    "Do not run the next cell if you can avoid it. Instead skip to the following cell to load pre-computed results from \"./datafiles/Δws_manymouse_saved.p\" on disk (if it is available)."
   ]
  },
  {
   "cell_type": "code",
   "execution_count": null,
   "metadata": {},
   "outputs": [
    {
     "name": "stdout",
     "output_type": "stream",
     "text": [
      "Running sanity check..\n",
      "(0, (12.173703981396997, 0.0008763944163064899, 0.18185870672539228, 0.06981557456949604, 0.10000000077775487, 0.02687679332847682, 0.0032719012595006252))\n"
     ]
    },
    {
     "name": "stderr",
     "output_type": "stream",
     "text": [
      "<ipython-input-11-079e41c468fb>:135: UserWarning: Cannot achieve desired error level\n",
      "  warnings.warn('Cannot achieve desired error level')\n"
     ]
    },
    {
     "name": "stdout",
     "output_type": "stream",
     "text": [
      "[                                                  ]  1.7% "
     ]
    },
    {
     "name": "stderr",
     "output_type": "stream",
     "text": [
      "<ipython-input-11-079e41c468fb>:135: UserWarning: Cannot achieve desired error level\n",
      "  warnings.warn('Cannot achieve desired error level')\n",
      "<ipython-input-11-079e41c468fb>:135: UserWarning: Cannot achieve desired error level\n",
      "  warnings.warn('Cannot achieve desired error level')\n"
     ]
    },
    {
     "name": "stdout",
     "output_type": "stream",
     "text": [
      "[##############                                    ] 28.6% "
     ]
    }
   ],
   "source": [
    "def helper(p):\n",
    "    i,p = p\n",
    "    try:\n",
    "        result = get_plasticity_level_fixed_error(*((p,)+(TARGET_ERROR,)))#,MINRATE,MAXRATE)))\n",
    "        return i,result\n",
    "    except FloatingPointError:\n",
    "        warnings.warn('LMS numerical error')\n",
    "        traceback.print_exc()\n",
    "        return i,(np.NaN,np.NaN,np.NaN,np.NaN,np.NaN,np.NaN)\n",
    "\n",
    "reset_pool()\n",
    "print('Running sanity check..')\n",
    "index = -5\n",
    "units = jobs[index]\n",
    "print(helper((0,units)))\n",
    "Δws = parmap(helper,enumerate(jobs),debug=False)"
   ]
  },
  {
   "cell_type": "markdown",
   "metadata": {},
   "source": [
    "# Run notebook from here to use precomputed results"
   ]
  },
  {
   "cell_type": "code",
   "execution_count": null,
   "metadata": {},
   "outputs": [],
   "source": [
    "saved = \"./datafiles/Δws_manymouse_saved.p\"\n",
    "\n",
    "try:\n",
    "    pickle.dump(Δws,open(saved,'wb'))\n",
    "except:\n",
    "    print('Δws variable not yet initialized')\n",
    "    try:\n",
    "        Δws = pickle.load(open(saved,'rb'))\n",
    "        print('Loaded from disk')\n",
    "    except:\n",
    "        print('Failed to load Δws from disk')"
   ]
  },
  {
   "cell_type": "code",
   "execution_count": null,
   "metadata": {},
   "outputs": [],
   "source": [
    "from  neurotools.graphics.plot import more_yticks\n",
    "\n",
    "counts = defaultdict(list)\n",
    "for u,Δw in zip(jobs,Δws):\n",
    "    if len(Δw)==7:\n",
    "        counts[len(u)].append(array(Δw))\n",
    "for k in counts.keys():\n",
    "    counts[k] = array(counts[k])\n",
    "n     = sorted(list(counts.keys()))\n",
    "μ     = array([nanmean(counts[k],axis=0) for k in n]).T\n",
    "σ     = array([ nanstd(counts[k],axis=0) for k in n]).T\n",
    "\n",
    "# MABSP,rate,MABSE0,MABSEC,MABSE,MABSW,MABSD\n",
    "figure(figsize=(10,2))\n",
    "alpha = 0.25\n",
    "subplot(131)\n",
    "c = AZURE\n",
    "i = 5\n",
    "fill_between(n,μ[i]-1.96*σ[i],μ[i]+1.96*σ[i],alpha=alpha,color=c,lw=0)\n",
    "plot(n,μ[i],color=c)\n",
    "simpleraxis()\n",
    "ylabel('Average |w|')\n",
    "xlabel('# Neurons')\n",
    "xlim(Nneurons//4,Nneurons)\n",
    "more_yticks()\n",
    "\n",
    "subplot(132)\n",
    "c = RUST\n",
    "i = 6\n",
    "fill_between(n,μ[i]-1.96*σ[i],μ[i]+1.96*σ[i],alpha=alpha,color=c,lw=0)\n",
    "plot(n,μ[i],color=c)\n",
    "simpleraxis()\n",
    "ylabel('Average |Δw|/day')\n",
    "xlabel('# Neurons')\n",
    "xlim(Nneurons//4,Nneurons)\n",
    "more_yticks()\n",
    "subplot(133)\n",
    "c = TURQUOISE\n",
    "fill_between(n,μ[0]-1.96*σ[0],μ[0]+1.96*σ[0],alpha=alpha,color=c,lw=0)\n",
    "plot(n,μ[0],color=c)\n",
    "simpleraxis()\n",
    "ylabel('%Δw/day')\n",
    "xlabel('# Neurons')\n",
    "text(xlim()[1],ylim()[1]+pixels_to_yunits(5),'Shaded = inner 95%',\n",
    "    ha='right',\n",
    "    va='top')\n",
    "xlim(Nneurons//4,Nneurons)\n",
    "\n",
    "tight_layout()\n",
    "savefigure('LMS_manymouse_weight_change_population_size_%d_days_%d_skip'%(MINDAYS,MAXSKIP),snap=False)"
   ]
  }
 ],
 "metadata": {
  "kernelspec": {
   "display_name": "Python 3",
   "language": "python",
   "name": "python3"
  },
  "language_info": {
   "codemirror_mode": {
    "name": "ipython",
    "version": 3
   },
   "file_extension": ".py",
   "mimetype": "text/x-python",
   "name": "python",
   "nbconvert_exporter": "python",
   "pygments_lexer": "ipython3",
   "version": "3.8.2"
  },
  "varInspector": {
   "cols": {
    "lenName": 16,
    "lenType": 16,
    "lenVar": 40
   },
   "kernels_config": {
    "python": {
     "delete_cmd_postfix": "",
     "delete_cmd_prefix": "del ",
     "library": "var_list.py",
     "varRefreshCmd": "print(var_dic_list())"
    },
    "r": {
     "delete_cmd_postfix": ") ",
     "delete_cmd_prefix": "rm(",
     "library": "var_list.r",
     "varRefreshCmd": "cat(var_dic_list()) "
    }
   },
   "types_to_exclude": [
    "module",
    "function",
    "builtin_function_or_method",
    "instance",
    "_Feature"
   ],
   "window_display": false
  }
 },
 "nbformat": 4,
 "nbformat_minor": 4
}
